{
 "cells": [
  {
   "cell_type": "code",
   "execution_count": 1,
   "metadata": {},
   "outputs": [],
   "source": [
    "import pandas as pd\n",
    "import numpy as np\n",
    "from datetime import timedelta\n",
    "import matplotlib.pyplot as plt\n",
    "from datetime import timedelta\n",
    "%matplotlib inline\n",
    "import yfinance as yf"
   ]
  },
  {
   "cell_type": "code",
   "execution_count": 2,
   "metadata": {},
   "outputs": [
    {
     "name": "stdout",
     "output_type": "stream",
     "text": [
      "[*********************100%***********************]  5 of 5 downloaded\n"
     ]
    }
   ],
   "source": [
    "df = yf.download('fb amzn aapl nflx goog ', start=\"2015-01-01\", end=\"2019-12-13\", freq = 'B')"
   ]
  },
  {
   "cell_type": "code",
   "execution_count": 3,
   "metadata": {},
   "outputs": [
    {
     "data": {
      "text/html": [
       "<div>\n",
       "<style scoped>\n",
       "    .dataframe tbody tr th:only-of-type {\n",
       "        vertical-align: middle;\n",
       "    }\n",
       "\n",
       "    .dataframe tbody tr th {\n",
       "        vertical-align: top;\n",
       "    }\n",
       "\n",
       "    .dataframe thead tr th {\n",
       "        text-align: left;\n",
       "    }\n",
       "\n",
       "    .dataframe thead tr:last-of-type th {\n",
       "        text-align: right;\n",
       "    }\n",
       "</style>\n",
       "<table border=\"1\" class=\"dataframe\">\n",
       "  <thead>\n",
       "    <tr>\n",
       "      <th></th>\n",
       "      <th colspan=\"5\" halign=\"left\">Adj Close</th>\n",
       "      <th colspan=\"5\" halign=\"left\">Close</th>\n",
       "      <th>...</th>\n",
       "      <th colspan=\"5\" halign=\"left\">Open</th>\n",
       "      <th colspan=\"5\" halign=\"left\">Volume</th>\n",
       "    </tr>\n",
       "    <tr>\n",
       "      <th></th>\n",
       "      <th>AAPL</th>\n",
       "      <th>AMZN</th>\n",
       "      <th>FB</th>\n",
       "      <th>GOOG</th>\n",
       "      <th>NFLX</th>\n",
       "      <th>AAPL</th>\n",
       "      <th>AMZN</th>\n",
       "      <th>FB</th>\n",
       "      <th>GOOG</th>\n",
       "      <th>NFLX</th>\n",
       "      <th>...</th>\n",
       "      <th>AAPL</th>\n",
       "      <th>AMZN</th>\n",
       "      <th>FB</th>\n",
       "      <th>GOOG</th>\n",
       "      <th>NFLX</th>\n",
       "      <th>AAPL</th>\n",
       "      <th>AMZN</th>\n",
       "      <th>FB</th>\n",
       "      <th>GOOG</th>\n",
       "      <th>NFLX</th>\n",
       "    </tr>\n",
       "    <tr>\n",
       "      <th>Date</th>\n",
       "      <th></th>\n",
       "      <th></th>\n",
       "      <th></th>\n",
       "      <th></th>\n",
       "      <th></th>\n",
       "      <th></th>\n",
       "      <th></th>\n",
       "      <th></th>\n",
       "      <th></th>\n",
       "      <th></th>\n",
       "      <th></th>\n",
       "      <th></th>\n",
       "      <th></th>\n",
       "      <th></th>\n",
       "      <th></th>\n",
       "      <th></th>\n",
       "      <th></th>\n",
       "      <th></th>\n",
       "      <th></th>\n",
       "      <th></th>\n",
       "      <th></th>\n",
       "    </tr>\n",
       "  </thead>\n",
       "  <tbody>\n",
       "    <tr>\n",
       "      <th>2019-12-09</th>\n",
       "      <td>266.92</td>\n",
       "      <td>1749.51</td>\n",
       "      <td>201.34</td>\n",
       "      <td>1343.56</td>\n",
       "      <td>302.50</td>\n",
       "      <td>266.92</td>\n",
       "      <td>1749.51</td>\n",
       "      <td>201.34</td>\n",
       "      <td>1343.56</td>\n",
       "      <td>302.50</td>\n",
       "      <td>...</td>\n",
       "      <td>270.00</td>\n",
       "      <td>1750.66</td>\n",
       "      <td>200.65</td>\n",
       "      <td>1338.04</td>\n",
       "      <td>307.35</td>\n",
       "      <td>32010600</td>\n",
       "      <td>2442800</td>\n",
       "      <td>11954800</td>\n",
       "      <td>1354300</td>\n",
       "      <td>5748400</td>\n",
       "    </tr>\n",
       "    <tr>\n",
       "      <th>2019-12-10</th>\n",
       "      <td>268.48</td>\n",
       "      <td>1739.21</td>\n",
       "      <td>200.87</td>\n",
       "      <td>1344.66</td>\n",
       "      <td>293.12</td>\n",
       "      <td>268.48</td>\n",
       "      <td>1739.21</td>\n",
       "      <td>200.87</td>\n",
       "      <td>1344.66</td>\n",
       "      <td>293.12</td>\n",
       "      <td>...</td>\n",
       "      <td>268.60</td>\n",
       "      <td>1747.40</td>\n",
       "      <td>201.66</td>\n",
       "      <td>1341.50</td>\n",
       "      <td>296.12</td>\n",
       "      <td>22605100</td>\n",
       "      <td>2514300</td>\n",
       "      <td>9475700</td>\n",
       "      <td>1094100</td>\n",
       "      <td>10476100</td>\n",
       "    </tr>\n",
       "    <tr>\n",
       "      <th>2019-12-11</th>\n",
       "      <td>270.77</td>\n",
       "      <td>1748.72</td>\n",
       "      <td>202.26</td>\n",
       "      <td>1345.02</td>\n",
       "      <td>298.93</td>\n",
       "      <td>270.77</td>\n",
       "      <td>1748.72</td>\n",
       "      <td>202.26</td>\n",
       "      <td>1345.02</td>\n",
       "      <td>298.93</td>\n",
       "      <td>...</td>\n",
       "      <td>268.81</td>\n",
       "      <td>1741.67</td>\n",
       "      <td>200.28</td>\n",
       "      <td>1350.84</td>\n",
       "      <td>294.49</td>\n",
       "      <td>19689200</td>\n",
       "      <td>2097600</td>\n",
       "      <td>8036800</td>\n",
       "      <td>850400</td>\n",
       "      <td>5589800</td>\n",
       "    </tr>\n",
       "    <tr>\n",
       "      <th>2019-12-12</th>\n",
       "      <td>271.46</td>\n",
       "      <td>1760.33</td>\n",
       "      <td>196.75</td>\n",
       "      <td>1350.27</td>\n",
       "      <td>298.44</td>\n",
       "      <td>271.46</td>\n",
       "      <td>1760.33</td>\n",
       "      <td>196.75</td>\n",
       "      <td>1350.27</td>\n",
       "      <td>298.44</td>\n",
       "      <td>...</td>\n",
       "      <td>267.78</td>\n",
       "      <td>1750.00</td>\n",
       "      <td>202.35</td>\n",
       "      <td>1345.94</td>\n",
       "      <td>295.67</td>\n",
       "      <td>34327600</td>\n",
       "      <td>3095900</td>\n",
       "      <td>23734800</td>\n",
       "      <td>1281000</td>\n",
       "      <td>4766600</td>\n",
       "    </tr>\n",
       "    <tr>\n",
       "      <th>2019-12-13</th>\n",
       "      <td>275.15</td>\n",
       "      <td>1760.94</td>\n",
       "      <td>194.11</td>\n",
       "      <td>1347.83</td>\n",
       "      <td>298.50</td>\n",
       "      <td>275.15</td>\n",
       "      <td>1760.94</td>\n",
       "      <td>194.11</td>\n",
       "      <td>1347.83</td>\n",
       "      <td>298.50</td>\n",
       "      <td>...</td>\n",
       "      <td>271.46</td>\n",
       "      <td>1765.00</td>\n",
       "      <td>196.40</td>\n",
       "      <td>1347.95</td>\n",
       "      <td>298.50</td>\n",
       "      <td>33396900</td>\n",
       "      <td>2745700</td>\n",
       "      <td>18798000</td>\n",
       "      <td>1549600</td>\n",
       "      <td>3879700</td>\n",
       "    </tr>\n",
       "  </tbody>\n",
       "</table>\n",
       "<p>5 rows × 30 columns</p>\n",
       "</div>"
      ],
      "text/plain": [
       "           Adj Close                                     Close           \\\n",
       "                AAPL     AMZN      FB     GOOG    NFLX    AAPL     AMZN   \n",
       "Date                                                                      \n",
       "2019-12-09    266.92  1749.51  201.34  1343.56  302.50  266.92  1749.51   \n",
       "2019-12-10    268.48  1739.21  200.87  1344.66  293.12  268.48  1739.21   \n",
       "2019-12-11    270.77  1748.72  202.26  1345.02  298.93  270.77  1748.72   \n",
       "2019-12-12    271.46  1760.33  196.75  1350.27  298.44  271.46  1760.33   \n",
       "2019-12-13    275.15  1760.94  194.11  1347.83  298.50  275.15  1760.94   \n",
       "\n",
       "                                     ...    Open                            \\\n",
       "                FB     GOOG    NFLX  ...    AAPL     AMZN      FB     GOOG   \n",
       "Date                                 ...                                     \n",
       "2019-12-09  201.34  1343.56  302.50  ...  270.00  1750.66  200.65  1338.04   \n",
       "2019-12-10  200.87  1344.66  293.12  ...  268.60  1747.40  201.66  1341.50   \n",
       "2019-12-11  202.26  1345.02  298.93  ...  268.81  1741.67  200.28  1350.84   \n",
       "2019-12-12  196.75  1350.27  298.44  ...  267.78  1750.00  202.35  1345.94   \n",
       "2019-12-13  194.11  1347.83  298.50  ...  271.46  1765.00  196.40  1347.95   \n",
       "\n",
       "                      Volume                                        \n",
       "              NFLX      AAPL     AMZN        FB     GOOG      NFLX  \n",
       "Date                                                                \n",
       "2019-12-09  307.35  32010600  2442800  11954800  1354300   5748400  \n",
       "2019-12-10  296.12  22605100  2514300   9475700  1094100  10476100  \n",
       "2019-12-11  294.49  19689200  2097600   8036800   850400   5589800  \n",
       "2019-12-12  295.67  34327600  3095900  23734800  1281000   4766600  \n",
       "2019-12-13  298.50  33396900  2745700  18798000  1549600   3879700  \n",
       "\n",
       "[5 rows x 30 columns]"
      ]
     },
     "execution_count": 3,
     "metadata": {},
     "output_type": "execute_result"
    }
   ],
   "source": [
    "df.tail()"
   ]
  },
  {
   "cell_type": "code",
   "execution_count": 4,
   "metadata": {},
   "outputs": [],
   "source": [
    "#df['Adj Close']"
   ]
  },
  {
   "cell_type": "code",
   "execution_count": 5,
   "metadata": {},
   "outputs": [
    {
     "data": {
      "text/plain": [
       "Text(0, 0.5, 'Stock Price')"
      ]
     },
     "execution_count": 5,
     "metadata": {},
     "output_type": "execute_result"
    },
    {
     "data": {
      "image/png": "[encoded data removed]",
      "text/plain": [
       "<Figure size 1152x576 with 1 Axes>"
      ]
     },
     "metadata": {
      "needs_background": "light"
     },
     "output_type": "display_data"
    }
   ],
   "source": [
    "ax = df['Adj Close'].plot(title = \"Historical Stock Prices of FAANG\",figsize=(16,8))\n",
    "ax.set_xlabel(\"Year\")\n",
    "ax.set_ylabel(\"Stock Price\")"
   ]
  },
  {
   "cell_type": "code",
   "execution_count": 6,
   "metadata": {},
   "outputs": [],
   "source": [
    "#Dickey-Fuller test\n",
    "\n",
    "from statsmodels.tsa.stattools import adfuller\n",
    "def test_stationarity(timeseries):\n",
    "    '''Augmented Dickey-Fuller Test Test for Stationarity'''\n",
    "       \n",
    "    print('Results of Dickey-Fuller Test:')\n",
    "    df_test = adfuller(timeseries, autolag = 'AIC')\n",
    "    df_output = pd.Series(df_test[0:4],\n",
    "                          index = ['Test Statistic','p-value','#Lags Used',\n",
    "                                    'Number of Observations Used'])\n",
    "    \n",
    "    for key, value in df_test[4].items():\n",
    "        df_output['Critical Value (%s)' %key] = value\n",
    "    \n",
    "    print(df_output)"
   ]
  },
  {
   "cell_type": "code",
   "execution_count": 7,
   "metadata": {},
   "outputs": [
    {
     "name": "stdout",
     "output_type": "stream",
     "text": [
      "Results of Dickey-Fuller Test:\n",
      "Test Statistic                    0.632268\n",
      "p-value                           0.988385\n",
      "#Lags Used                        9.000000\n",
      "Number of Observations Used    1237.000000\n",
      "Critical Value (1%)              -3.435647\n",
      "Critical Value (5%)              -2.863879\n",
      "Critical Value (10%)             -2.568015\n",
      "dtype: float64\n",
      "Results of Dickey-Fuller Test:\n",
      "Test Statistic                   -0.997307\n",
      "p-value                           0.754245\n",
      "#Lags Used                       18.000000\n",
      "Number of Observations Used    1228.000000\n",
      "Critical Value (1%)              -3.435686\n",
      "Critical Value (5%)              -2.863896\n",
      "Critical Value (10%)             -2.568025\n",
      "dtype: float64\n",
      "Results of Dickey-Fuller Test:\n",
      "Test Statistic                   -1.461302\n",
      "p-value                           0.552560\n",
      "#Lags Used                        0.000000\n",
      "Number of Observations Used    1246.000000\n",
      "Critical Value (1%)              -3.435609\n",
      "Critical Value (5%)              -2.863862\n",
      "Critical Value (10%)             -2.568006\n",
      "dtype: float64\n",
      "Results of Dickey-Fuller Test:\n",
      "Test Statistic                   -0.643775\n",
      "p-value                           0.860781\n",
      "#Lags Used                       11.000000\n",
      "Number of Observations Used    1235.000000\n",
      "Critical Value (1%)              -3.435656\n",
      "Critical Value (5%)              -2.863883\n",
      "Critical Value (10%)             -2.568018\n",
      "dtype: float64\n",
      "Results of Dickey-Fuller Test:\n",
      "Test Statistic                   -1.242306\n",
      "p-value                           0.655137\n",
      "#Lags Used                        5.000000\n",
      "Number of Observations Used    1241.000000\n",
      "Critical Value (1%)              -3.435630\n",
      "Critical Value (5%)              -2.863872\n",
      "Critical Value (10%)             -2.568011\n",
      "dtype: float64\n"
     ]
    },
    {
     "data": {
      "text/plain": [
       "AAPL    None\n",
       "AMZN    None\n",
       "FB      None\n",
       "GOOG    None\n",
       "NFLX    None\n",
       "dtype: object"
      ]
     },
     "execution_count": 7,
     "metadata": {},
     "output_type": "execute_result"
    }
   ],
   "source": [
    "import functools\n",
    "df['Adj Close'].apply(functools.partial(test_stationarity))"
   ]
  },
  {
   "cell_type": "code",
   "execution_count": 8,
   "metadata": {},
   "outputs": [
    {
     "data": {
      "text/html": [
       "<div>\n",
       "<style scoped>\n",
       "    .dataframe tbody tr th:only-of-type {\n",
       "        vertical-align: middle;\n",
       "    }\n",
       "\n",
       "    .dataframe tbody tr th {\n",
       "        vertical-align: top;\n",
       "    }\n",
       "\n",
       "    .dataframe thead th {\n",
       "        text-align: right;\n",
       "    }\n",
       "</style>\n",
       "<table border=\"1\" class=\"dataframe\">\n",
       "  <thead>\n",
       "    <tr style=\"text-align: right;\">\n",
       "      <th></th>\n",
       "      <th>AAPL</th>\n",
       "      <th>AMZN</th>\n",
       "      <th>FB</th>\n",
       "      <th>GOOG</th>\n",
       "      <th>NFLX</th>\n",
       "    </tr>\n",
       "    <tr>\n",
       "      <th>Date</th>\n",
       "      <th></th>\n",
       "      <th></th>\n",
       "      <th></th>\n",
       "      <th></th>\n",
       "      <th></th>\n",
       "    </tr>\n",
       "  </thead>\n",
       "  <tbody>\n",
       "    <tr>\n",
       "      <th>2015-01-05</th>\n",
       "      <td>-2.83</td>\n",
       "      <td>-6.33</td>\n",
       "      <td>-1.26</td>\n",
       "      <td>-10.91</td>\n",
       "      <td>-2.54</td>\n",
       "    </tr>\n",
       "    <tr>\n",
       "      <th>2015-01-06</th>\n",
       "      <td>0.01</td>\n",
       "      <td>-6.90</td>\n",
       "      <td>-1.04</td>\n",
       "      <td>-11.87</td>\n",
       "      <td>-0.81</td>\n",
       "    </tr>\n",
       "    <tr>\n",
       "      <th>2015-01-07</th>\n",
       "      <td>1.37</td>\n",
       "      <td>3.13</td>\n",
       "      <td>0.00</td>\n",
       "      <td>-0.86</td>\n",
       "      <td>0.24</td>\n",
       "    </tr>\n",
       "    <tr>\n",
       "      <th>2015-01-08</th>\n",
       "      <td>3.81</td>\n",
       "      <td>2.04</td>\n",
       "      <td>2.03</td>\n",
       "      <td>1.57</td>\n",
       "      <td>1.04</td>\n",
       "    </tr>\n",
       "    <tr>\n",
       "      <th>2015-01-09</th>\n",
       "      <td>0.11</td>\n",
       "      <td>-3.53</td>\n",
       "      <td>-0.44</td>\n",
       "      <td>-6.49</td>\n",
       "      <td>-0.74</td>\n",
       "    </tr>\n",
       "  </tbody>\n",
       "</table>\n",
       "</div>"
      ],
      "text/plain": [
       "            AAPL  AMZN    FB   GOOG  NFLX\n",
       "Date                                     \n",
       "2015-01-05 -2.83 -6.33 -1.26 -10.91 -2.54\n",
       "2015-01-06  0.01 -6.90 -1.04 -11.87 -0.81\n",
       "2015-01-07  1.37  3.13  0.00  -0.86  0.24\n",
       "2015-01-08  3.81  2.04  2.03   1.57  1.04\n",
       "2015-01-09  0.11 -3.53 -0.44  -6.49 -0.74"
      ]
     },
     "execution_count": 8,
     "metadata": {},
     "output_type": "execute_result"
    }
   ],
   "source": [
    "FAANGDiff = df['Adj Close'].diff().dropna()\n",
    "FAANGDiff.head()"
   ]
  },
  {
   "cell_type": "code",
   "execution_count": 9,
   "metadata": {},
   "outputs": [
    {
     "name": "stdout",
     "output_type": "stream",
     "text": [
      "Results of Dickey-Fuller Test:\n",
      "Test Statistic                -1.046468e+01\n",
      "p-value                        1.331189e-18\n",
      "#Lags Used                     8.000000e+00\n",
      "Number of Observations Used    1.237000e+03\n",
      "Critical Value (1%)           -3.435647e+00\n",
      "Critical Value (5%)           -2.863879e+00\n",
      "Critical Value (10%)          -2.568015e+00\n",
      "dtype: float64\n",
      "Results of Dickey-Fuller Test:\n",
      "Test Statistic                -7.742685e+00\n",
      "p-value                        1.051675e-11\n",
      "#Lags Used                     1.700000e+01\n",
      "Number of Observations Used    1.228000e+03\n",
      "Critical Value (1%)           -3.435686e+00\n",
      "Critical Value (5%)           -2.863896e+00\n",
      "Critical Value (10%)          -2.568025e+00\n",
      "dtype: float64\n",
      "Results of Dickey-Fuller Test:\n",
      "Test Statistic                  -35.925999\n",
      "p-value                           0.000000\n",
      "#Lags Used                        0.000000\n",
      "Number of Observations Used    1245.000000\n",
      "Critical Value (1%)              -3.435613\n",
      "Critical Value (5%)              -2.863864\n",
      "Critical Value (10%)             -2.568007\n",
      "dtype: float64\n",
      "Results of Dickey-Fuller Test:\n",
      "Test Statistic                -1.316380e+01\n",
      "p-value                        1.291264e-24\n",
      "#Lags Used                     1.000000e+01\n",
      "Number of Observations Used    1.235000e+03\n",
      "Critical Value (1%)           -3.435656e+00\n",
      "Critical Value (5%)           -2.863883e+00\n",
      "Critical Value (10%)          -2.568018e+00\n",
      "dtype: float64\n",
      "Results of Dickey-Fuller Test:\n",
      "Test Statistic                -1.657316e+01\n",
      "p-value                        1.862455e-29\n",
      "#Lags Used                     4.000000e+00\n",
      "Number of Observations Used    1.241000e+03\n",
      "Critical Value (1%)           -3.435630e+00\n",
      "Critical Value (5%)           -2.863872e+00\n",
      "Critical Value (10%)          -2.568011e+00\n",
      "dtype: float64\n"
     ]
    },
    {
     "data": {
      "text/plain": [
       "AAPL    None\n",
       "AMZN    None\n",
       "FB      None\n",
       "GOOG    None\n",
       "NFLX    None\n",
       "dtype: object"
      ]
     },
     "execution_count": 9,
     "metadata": {},
     "output_type": "execute_result"
    }
   ],
   "source": [
    "FAANGDiff.apply(functools.partial(test_stationarity))"
   ]
  },
  {
   "cell_type": "code",
   "execution_count": 10,
   "metadata": {},
   "outputs": [
    {
     "name": "stderr",
     "output_type": "stream",
     "text": [
      "/Applications/anaconda3/lib/python3.7/site-packages/statsmodels/tsa/base/tsa_model.py:225: ValueWarning: A date index has been provided, but it has no associated frequency information and so will be ignored when e.g. forecasting.\n",
      "  ' ignored when e.g. forecasting.', ValueWarning)\n"
     ]
    }
   ],
   "source": [
    "from statsmodels.tsa.vector_ar.var_model import VAR\n",
    "model = VAR(FAANGDiff)"
   ]
  },
  {
   "cell_type": "code",
   "execution_count": 11,
   "metadata": {},
   "outputs": [
    {
     "data": {
      "text/html": [
       "<table class=\"simpletable\">\n",
       "<caption>VAR Order Selection (* highlights the minimums)</caption>\n",
       "<tr>\n",
       "   <td></td>      <th>AIC</th>         <th>BIC</th>         <th>FPE</th>        <th>HQIC</th>    \n",
       "</tr>\n",
       "<tr>\n",
       "  <th>0</th>  <td>     16.66</td>  <td>     16.68*</td> <td> 1.718e+07</td>  <td>     16.67*</td>\n",
       "</tr>\n",
       "<tr>\n",
       "  <th>1</th>  <td>     16.67</td>  <td>     16.79</td>  <td> 1.730e+07</td>  <td>     16.71</td> \n",
       "</tr>\n",
       "<tr>\n",
       "  <th>2</th>  <td>     16.66</td>  <td>     16.89</td>  <td> 1.723e+07</td>  <td>     16.75</td> \n",
       "</tr>\n",
       "<tr>\n",
       "  <th>3</th>  <td>     16.67</td>  <td>     17.00</td>  <td> 1.741e+07</td>  <td>     16.80</td> \n",
       "</tr>\n",
       "<tr>\n",
       "  <th>4</th>  <td>     16.69</td>  <td>     17.13</td>  <td> 1.776e+07</td>  <td>     16.86</td> \n",
       "</tr>\n",
       "<tr>\n",
       "  <th>5</th>  <td>     16.69</td>  <td>     17.23</td>  <td> 1.766e+07</td>  <td>     16.89</td> \n",
       "</tr>\n",
       "<tr>\n",
       "  <th>6</th>  <td>     16.67</td>  <td>     17.31</td>  <td> 1.733e+07</td>  <td>     16.91</td> \n",
       "</tr>\n",
       "<tr>\n",
       "  <th>7</th>  <td>     16.65*</td> <td>     17.40</td>  <td> 1.710e+07*</td> <td>     16.94</td> \n",
       "</tr>\n",
       "<tr>\n",
       "  <th>8</th>  <td>     16.66</td>  <td>     17.51</td>  <td> 1.715e+07</td>  <td>     16.98</td> \n",
       "</tr>\n",
       "<tr>\n",
       "  <th>9</th>  <td>     16.67</td>  <td>     17.62</td>  <td> 1.733e+07</td>  <td>     17.03</td> \n",
       "</tr>\n",
       "<tr>\n",
       "  <th>10</th> <td>     16.69</td>  <td>     17.75</td>  <td> 1.771e+07</td>  <td>     17.09</td> \n",
       "</tr>\n",
       "<tr>\n",
       "  <th>11</th> <td>     16.69</td>  <td>     17.86</td>  <td> 1.778e+07</td>  <td>     17.13</td> \n",
       "</tr>\n",
       "<tr>\n",
       "  <th>12</th> <td>     16.71</td>  <td>     17.98</td>  <td> 1.808e+07</td>  <td>     17.19</td> \n",
       "</tr>\n",
       "<tr>\n",
       "  <th>13</th> <td>     16.72</td>  <td>     18.09</td>  <td> 1.828e+07</td>  <td>     17.24</td> \n",
       "</tr>\n",
       "<tr>\n",
       "  <th>14</th> <td>     16.72</td>  <td>     18.20</td>  <td> 1.835e+07</td>  <td>     17.28</td> \n",
       "</tr>\n",
       "<tr>\n",
       "  <th>15</th> <td>     16.74</td>  <td>     18.32</td>  <td> 1.868e+07</td>  <td>     17.34</td> \n",
       "</tr>\n",
       "</table>"
      ],
      "text/plain": [
       "<class 'statsmodels.iolib.table.SimpleTable'>"
      ]
     },
     "execution_count": 11,
     "metadata": {},
     "output_type": "execute_result"
    }
   ],
   "source": [
    "modsel = model.select_order(15)\n",
    "modsel.summary()"
   ]
  },
  {
   "cell_type": "code",
   "execution_count": 12,
   "metadata": {},
   "outputs": [
    {
     "data": {
      "text/plain": [
       "  Summary of Regression Results   \n",
       "==================================\n",
       "Model:                         VAR\n",
       "Method:                        OLS\n",
       "Date:           Tue, 17, Dec, 2019\n",
       "Time:                     20:49:10\n",
       "--------------------------------------------------------------------\n",
       "No. of Equations:         5.00000    BIC:                    17.3749\n",
       "Nobs:                     1239.00    HQIC:                   16.9106\n",
       "Log likelihood:          -18913.1    FPE:                1.66982e+07\n",
       "AIC:                      16.6307    Det(Omega_mle):     1.44702e+07\n",
       "--------------------------------------------------------------------\n",
       "Results for equation AAPL\n",
       "==========================================================================\n",
       "             coefficient       std. error           t-stat            prob\n",
       "--------------------------------------------------------------------------\n",
       "const           0.140826         0.068110            2.068           0.039\n",
       "L1.AAPL         0.040974         0.036145            1.134           0.257\n",
       "L1.AMZN        -0.006786         0.004889           -1.388           0.165\n",
       "L1.FB           0.032864         0.032383            1.015           0.310\n",
       "L1.GOOG        -0.007194         0.007224           -0.996           0.319\n",
       "L1.NFLX         0.003116         0.015488            0.201           0.841\n",
       "L2.AAPL        -0.015546         0.036109           -0.431           0.667\n",
       "L2.AMZN        -0.002480         0.004879           -0.508           0.611\n",
       "L2.FB           0.044357         0.032418            1.368           0.171\n",
       "L2.GOOG        -0.009159         0.007173           -1.277           0.202\n",
       "L2.NFLX        -0.011585         0.015494           -0.748           0.455\n",
       "L3.AAPL        -0.037967         0.036136           -1.051           0.293\n",
       "L3.AMZN        -0.006040         0.004863           -1.242           0.214\n",
       "L3.FB           0.006649         0.032515            0.204           0.838\n",
       "L3.GOOG         0.004847         0.007206            0.673           0.501\n",
       "L3.NFLX         0.030731         0.015529            1.979           0.048\n",
       "L4.AAPL         0.041511         0.036142            1.149           0.251\n",
       "L4.AMZN         0.002556         0.004857            0.526           0.599\n",
       "L4.FB          -0.051997         0.032621           -1.594           0.111\n",
       "L4.GOOG         0.000895         0.007206            0.124           0.901\n",
       "L4.NFLX        -0.007526         0.015636           -0.481           0.630\n",
       "L5.AAPL         0.041769         0.036265            1.152           0.249\n",
       "L5.AMZN         0.015628         0.004852            3.221           0.001\n",
       "L5.FB          -0.074579         0.032674           -2.282           0.022\n",
       "L5.GOOG        -0.010811         0.007200           -1.502           0.133\n",
       "L5.NFLX        -0.024983         0.015655           -1.596           0.111\n",
       "L6.AAPL         0.087218         0.036318            2.402           0.016\n",
       "L6.AMZN        -0.001834         0.004854           -0.378           0.706\n",
       "L6.FB           0.046166         0.032758            1.409           0.159\n",
       "L6.GOOG        -0.029809         0.007182           -4.151           0.000\n",
       "L6.NFLX        -0.001841         0.015658           -0.118           0.906\n",
       "L7.AAPL         0.067207         0.036426            1.845           0.065\n",
       "L7.AMZN        -0.008446         0.004858           -1.739           0.082\n",
       "L7.FB           0.072521         0.032719            2.216           0.027\n",
       "L7.GOOG         0.017798         0.007208            2.469           0.014\n",
       "L7.NFLX        -0.018457         0.015818           -1.167           0.243\n",
       "==========================================================================\n",
       "\n",
       "Results for equation AMZN\n",
       "==========================================================================\n",
       "             coefficient       std. error           t-stat            prob\n",
       "--------------------------------------------------------------------------\n",
       "const           1.252423         0.618512            2.025           0.043\n",
       "L1.AAPL        -0.103402         0.328233           -0.315           0.753\n",
       "L1.AMZN        -0.025748         0.044401           -0.580           0.562\n",
       "L1.FB           0.079941         0.294070            0.272           0.786\n",
       "L1.GOOG        -0.020488         0.065604           -0.312           0.755\n",
       "L1.NFLX         0.064948         0.140648            0.462           0.644\n",
       "L2.AAPL        -0.436921         0.327912           -1.332           0.183\n",
       "L2.AMZN        -0.017436         0.044311           -0.393           0.694\n",
       "L2.FB           0.404551         0.294388            1.374           0.169\n",
       "L2.GOOG        -0.087296         0.065136           -1.340           0.180\n",
       "L2.NFLX         0.238885         0.140702            1.698           0.090\n",
       "L3.AAPL        -0.217322         0.328160           -0.662           0.508\n",
       "L3.AMZN        -0.069718         0.044160           -1.579           0.114\n",
       "L3.FB           0.508425         0.295275            1.722           0.085\n",
       "L3.GOOG        -0.100362         0.065442           -1.534           0.125\n",
       "L3.NFLX         0.478815         0.141021            3.395           0.001\n",
       "L4.AAPL         0.239729         0.328209            0.730           0.465\n",
       "L4.AMZN        -0.047219         0.044107           -1.071           0.284\n",
       "L4.FB          -0.477256         0.296233           -1.611           0.107\n",
       "L4.GOOG         0.048275         0.065435            0.738           0.461\n",
       "L4.NFLX         0.204855         0.141995            1.443           0.149\n",
       "L5.AAPL         0.028327         0.329325            0.086           0.931\n",
       "L5.AMZN         0.166473         0.044066            3.778           0.000\n",
       "L5.FB          -1.035693         0.296720           -3.490           0.000\n",
       "L5.GOOG        -0.008781         0.065384           -0.134           0.893\n",
       "L5.NFLX        -0.308623         0.142165           -2.171           0.030\n",
       "L6.AAPL         0.331316         0.329805            1.005           0.315\n",
       "L6.AMZN        -0.030059         0.044084           -0.682           0.495\n",
       "L6.FB           0.277906         0.297475            0.934           0.350\n",
       "L6.GOOG        -0.170652         0.065220           -2.617           0.009\n",
       "L6.NFLX         0.320282         0.142195            2.252           0.024\n",
       "L7.AAPL         0.561541         0.330792            1.698           0.090\n",
       "L7.AMZN        -0.123672         0.044114           -2.803           0.005\n",
       "L7.FB           0.455744         0.297126            1.534           0.125\n",
       "L7.GOOG         0.121131         0.065456            1.851           0.064\n",
       "L7.NFLX        -0.084970         0.143642           -0.592           0.554\n",
       "==========================================================================\n",
       "\n",
       "Results for equation FB\n",
       "==========================================================================\n",
       "             coefficient       std. error           t-stat            prob\n",
       "--------------------------------------------------------------------------\n",
       "const           0.112824         0.076893            1.467           0.142\n",
       "L1.AAPL        -0.090978         0.040806           -2.230           0.026\n",
       "L1.AMZN        -0.009442         0.005520           -1.710           0.087\n",
       "L1.FB           0.014938         0.036558            0.409           0.683\n",
       "L1.GOOG         0.014459         0.008156            1.773           0.076\n",
       "L1.NFLX        -0.006456         0.017485           -0.369           0.712\n",
       "L2.AAPL         0.015287         0.040766            0.375           0.708\n",
       "L2.AMZN         0.001762         0.005509            0.320           0.749\n",
       "L2.FB           0.031104         0.036598            0.850           0.395\n",
       "L2.GOOG        -0.028971         0.008098           -3.578           0.000\n",
       "L2.NFLX         0.031411         0.017492            1.796           0.073\n",
       "L3.AAPL         0.018133         0.040796            0.444           0.657\n",
       "L3.AMZN        -0.007273         0.005490           -1.325           0.185\n",
       "L3.FB          -0.025830         0.036708           -0.704           0.482\n",
       "L3.GOOG        -0.006361         0.008136           -0.782           0.434\n",
       "L3.NFLX         0.049475         0.017532            2.822           0.005\n",
       "L4.AAPL         0.073934         0.040803            1.812           0.070\n",
       "L4.AMZN         0.001307         0.005483            0.238           0.812\n",
       "L4.FB          -0.051556         0.036827           -1.400           0.162\n",
       "L4.GOOG        -0.002269         0.008135           -0.279           0.780\n",
       "L4.NFLX        -0.000113         0.017653           -0.006           0.995\n",
       "L5.AAPL        -0.061455         0.040941           -1.501           0.133\n",
       "L5.AMZN         0.012827         0.005478            2.341           0.019\n",
       "L5.FB          -0.090865         0.036888           -2.463           0.014\n",
       "L5.GOOG         0.002460         0.008128            0.303           0.762\n",
       "L5.NFLX        -0.010397         0.017674           -0.588           0.556\n",
       "L6.AAPL         0.082769         0.041001            2.019           0.044\n",
       "L6.AMZN         0.005616         0.005481            1.025           0.305\n",
       "L6.FB          -0.006398         0.036982           -0.173           0.863\n",
       "L6.GOOG        -0.026452         0.008108           -3.262           0.001\n",
       "L6.NFLX         0.028243         0.017677            1.598           0.110\n",
       "L7.AAPL         0.070119         0.041124            1.705           0.088\n",
       "L7.AMZN        -0.011903         0.005484           -2.170           0.030\n",
       "L7.FB          -0.037171         0.036938           -1.006           0.314\n",
       "L7.GOOG         0.003979         0.008137            0.489           0.625\n",
       "L7.NFLX         0.018751         0.017857            1.050           0.294\n",
       "==========================================================================\n",
       "\n",
       "Results for equation GOOG\n",
       "==========================================================================\n",
       "             coefficient       std. error           t-stat            prob\n",
       "--------------------------------------------------------------------------\n",
       "const           0.753522         0.395977            1.903           0.057\n",
       "L1.AAPL        -0.359527         0.210138           -1.711           0.087\n",
       "L1.AMZN        -0.064312         0.028426           -2.262           0.024\n",
       "L1.FB           0.330901         0.188266            1.758           0.079\n",
       "L1.GOOG         0.041736         0.042000            0.994           0.320\n",
       "L1.NFLX         0.101393         0.090044            1.126           0.260\n",
       "L2.AAPL         0.185728         0.209932            0.885           0.376\n",
       "L2.AMZN        -0.013660         0.028368           -0.482           0.630\n",
       "L2.FB           0.353236         0.188469            1.874           0.061\n",
       "L2.GOOG        -0.118253         0.041701           -2.836           0.005\n",
       "L2.NFLX        -0.016748         0.090079           -0.186           0.853\n",
       "L3.AAPL        -0.152225         0.210091           -0.725           0.469\n",
       "L3.AMZN        -0.039495         0.028272           -1.397           0.162\n",
       "L3.FB          -0.070776         0.189038           -0.374           0.708\n",
       "L3.GOOG         0.012380         0.041897            0.296           0.768\n",
       "L3.NFLX         0.352967         0.090283            3.910           0.000\n",
       "L4.AAPL         0.418076         0.210122            1.990           0.047\n",
       "L4.AMZN         0.016356         0.028237            0.579           0.562\n",
       "L4.FB          -0.246544         0.189651           -1.300           0.194\n",
       "L4.GOOG        -0.040482         0.041892           -0.966           0.334\n",
       "L4.NFLX        -0.019706         0.090906           -0.217           0.828\n",
       "L5.AAPL        -0.044560         0.210837           -0.211           0.833\n",
       "L5.AMZN         0.077400         0.028212            2.744           0.006\n",
       "L5.FB          -0.326547         0.189963           -1.719           0.086\n",
       "L5.GOOG        -0.057305         0.041860           -1.369           0.171\n",
       "L5.NFLX        -0.201233         0.091015           -2.211           0.027\n",
       "L6.AAPL         0.588639         0.211144            2.788           0.005\n",
       "L6.AMZN         0.001112         0.028223            0.039           0.969\n",
       "L6.FB           0.266975         0.190446            1.402           0.161\n",
       "L6.GOOG        -0.094489         0.041754           -2.263           0.024\n",
       "L6.NFLX        -0.185625         0.091034           -2.039           0.041\n",
       "L7.AAPL         0.378015         0.211776            1.785           0.074\n",
       "L7.AMZN        -0.052906         0.028242           -1.873           0.061\n",
       "L7.FB           0.402564         0.190223            2.116           0.034\n",
       "L7.GOOG         0.032836         0.041906            0.784           0.433\n",
       "L7.NFLX        -0.147330         0.091961           -1.602           0.109\n",
       "==========================================================================\n",
       "\n",
       "Results for equation NFLX\n",
       "==========================================================================\n",
       "             coefficient       std. error           t-stat            prob\n",
       "--------------------------------------------------------------------------\n",
       "const           0.239555         0.160385            1.494           0.135\n",
       "L1.AAPL        -0.091896         0.085113           -1.080           0.280\n",
       "L1.AMZN        -0.025637         0.011514           -2.227           0.026\n",
       "L1.FB           0.155769         0.076255            2.043           0.041\n",
       "L1.GOOG         0.000141         0.017012            0.008           0.993\n",
       "L1.NFLX         0.045003         0.036471            1.234           0.217\n",
       "L2.AAPL        -0.077487         0.085030           -0.911           0.362\n",
       "L2.AMZN        -0.009654         0.011490           -0.840           0.401\n",
       "L2.FB           0.268087         0.076337            3.512           0.000\n",
       "L2.GOOG        -0.044571         0.016890           -2.639           0.008\n",
       "L2.NFLX         0.062265         0.036485            1.707           0.088\n",
       "L3.AAPL         0.000030         0.085094            0.000           1.000\n",
       "L3.AMZN        -0.011904         0.011451           -1.040           0.299\n",
       "L3.FB          -0.004831         0.076567           -0.063           0.950\n",
       "L3.GOOG        -0.028371         0.016970           -1.672           0.095\n",
       "L3.NFLX         0.123988         0.036568            3.391           0.001\n",
       "L4.AAPL         0.015451         0.085107            0.182           0.856\n",
       "L4.AMZN        -0.017480         0.011437           -1.528           0.126\n",
       "L4.FB           0.023429         0.076815            0.305           0.760\n",
       "L4.GOOG         0.008893         0.016968            0.524           0.600\n",
       "L4.NFLX         0.028525         0.036820            0.775           0.439\n",
       "L5.AAPL         0.062846         0.085396            0.736           0.462\n",
       "L5.AMZN         0.025941         0.011427            2.270           0.023\n",
       "L5.FB          -0.168112         0.076942           -2.185           0.029\n",
       "L5.GOOG         0.002829         0.016955            0.167           0.868\n",
       "L5.NFLX        -0.126736         0.036864           -3.438           0.001\n",
       "L6.AAPL         0.054824         0.085521            0.641           0.521\n",
       "L6.AMZN         0.002827         0.011431            0.247           0.805\n",
       "L6.FB           0.012741         0.077138            0.165           0.869\n",
       "L6.GOOG        -0.027802         0.016912           -1.644           0.100\n",
       "L6.NFLX        -0.004519         0.036872           -0.123           0.902\n",
       "L7.AAPL         0.122628         0.085777            1.430           0.153\n",
       "L7.AMZN         0.000319         0.011439            0.028           0.978\n",
       "L7.FB          -0.034666         0.077047           -0.450           0.653\n",
       "L7.GOOG         0.022602         0.016973            1.332           0.183\n",
       "L7.NFLX        -0.044558         0.037248           -1.196           0.232\n",
       "==========================================================================\n",
       "\n",
       "Correlation matrix of residuals\n",
       "            AAPL      AMZN        FB      GOOG      NFLX\n",
       "AAPL    1.000000  0.554624  0.422418  0.544480  0.409709\n",
       "AMZN    0.554624  1.000000  0.553267  0.656044  0.595622\n",
       "FB      0.422418  0.553267  1.000000  0.570328  0.399235\n",
       "GOOG    0.544480  0.656044  0.570328  1.000000  0.497415\n",
       "NFLX    0.409709  0.595622  0.399235  0.497415  1.000000\n",
       "\n"
      ]
     },
     "execution_count": 12,
     "metadata": {},
     "output_type": "execute_result"
    }
   ],
   "source": [
    "results = model.fit(maxlags = 15, ic = 'aic')\n",
    "results.summary()"
   ]
  },
  {
   "cell_type": "code",
   "execution_count": 13,
   "metadata": {},
   "outputs": [
    {
     "data": {
      "text/html": [
       "<table class=\"simpletable\">\n",
       "<caption>Granger causality F-test. H_0: GOOG does not Granger-cause [AAPL, AMZN, FB, NFLX]. Conclusion: reject H_0 at 5% significance level.</caption>\n",
       "<tr>\n",
       "  <th>Test statistic</th> <th>Critical value</th> <th>p-value</th>     <th>df</th>    \n",
       "</tr>\n",
       "<tr>\n",
       "       <td>2.253</td>          <td>1.478</td>      <td>0.000</td>  <td>(28, 6015)</td>\n",
       "</tr>\n",
       "</table>"
      ],
      "text/plain": [
       "<class 'statsmodels.iolib.table.SimpleTable'>"
      ]
     },
     "execution_count": 13,
     "metadata": {},
     "output_type": "execute_result"
    }
   ],
   "source": [
    "granges = results.test_causality(['AAPL','AMZN','FB','NFLX'],['GOOG'], kind = 'f')\n",
    "granges.summary()"
   ]
  },
  {
   "cell_type": "code",
   "execution_count": 14,
   "metadata": {},
   "outputs": [
    {
     "data": {
      "text/html": [
       "<table class=\"simpletable\">\n",
       "<caption>Granger causality F-test. H_0: AAPL does not Granger-cause [GOOG, AMZN, FB, NFLX]. Conclusion: reject H_0 at 5% significance level.</caption>\n",
       "<tr>\n",
       "  <th>Test statistic</th> <th>Critical value</th> <th>p-value</th>     <th>df</th>    \n",
       "</tr>\n",
       "<tr>\n",
       "       <td>1.515</td>          <td>1.478</td>      <td>0.040</td>  <td>(28, 6015)</td>\n",
       "</tr>\n",
       "</table>"
      ],
      "text/plain": [
       "<class 'statsmodels.iolib.table.SimpleTable'>"
      ]
     },
     "execution_count": 14,
     "metadata": {},
     "output_type": "execute_result"
    }
   ],
   "source": [
    "granges = results.test_causality(['GOOG','AMZN','FB','NFLX'],['AAPL'], kind = 'f')\n",
    "granges.summary()"
   ]
  },
  {
   "cell_type": "code",
   "execution_count": 15,
   "metadata": {},
   "outputs": [
    {
     "data": {
      "text/html": [
       "<table class=\"simpletable\">\n",
       "<caption>Granger causality F-test. H_0: AMZN does not Granger-cause [AAPL, GOOG, FB, NFLX]. Conclusion: fail to reject H_0 at 5% significance level.</caption>\n",
       "<tr>\n",
       "  <th>Test statistic</th> <th>Critical value</th> <th>p-value</th>     <th>df</th>    \n",
       "</tr>\n",
       "<tr>\n",
       "       <td>1.398</td>          <td>1.478</td>      <td>0.079</td>  <td>(28, 6015)</td>\n",
       "</tr>\n",
       "</table>"
      ],
      "text/plain": [
       "<class 'statsmodels.iolib.table.SimpleTable'>"
      ]
     },
     "execution_count": 15,
     "metadata": {},
     "output_type": "execute_result"
    }
   ],
   "source": [
    "granges = results.test_causality(['AAPL','GOOG','FB','NFLX'],['AMZN'], kind = 'f')\n",
    "granges.summary()"
   ]
  },
  {
   "cell_type": "code",
   "execution_count": 16,
   "metadata": {},
   "outputs": [
    {
     "data": {
      "text/html": [
       "<table class=\"simpletable\">\n",
       "<caption>Granger causality F-test. H_0: FB does not Granger-cause [AAPL, AMZN, GOOG, NFLX]. Conclusion: reject H_0 at 5% significance level.</caption>\n",
       "<tr>\n",
       "  <th>Test statistic</th> <th>Critical value</th> <th>p-value</th>     <th>df</th>    \n",
       "</tr>\n",
       "<tr>\n",
       "       <td>2.301</td>          <td>1.478</td>      <td>0.000</td>  <td>(28, 6015)</td>\n",
       "</tr>\n",
       "</table>"
      ],
      "text/plain": [
       "<class 'statsmodels.iolib.table.SimpleTable'>"
      ]
     },
     "execution_count": 16,
     "metadata": {},
     "output_type": "execute_result"
    }
   ],
   "source": [
    "granges = results.test_causality(['AAPL','AMZN','GOOG','NFLX'],['FB'], kind = 'f')\n",
    "granges.summary()"
   ]
  },
  {
   "cell_type": "code",
   "execution_count": 17,
   "metadata": {},
   "outputs": [
    {
     "data": {
      "text/html": [
       "<table class=\"simpletable\">\n",
       "<caption>Granger causality F-test. H_0: NFLX does not Granger-cause [AAPL, AMZN, FB, GOOG]. Conclusion: reject H_0 at 5% significance level.</caption>\n",
       "<tr>\n",
       "  <th>Test statistic</th> <th>Critical value</th> <th>p-value</th>     <th>df</th>    \n",
       "</tr>\n",
       "<tr>\n",
       "       <td>3.170</td>          <td>1.478</td>      <td>0.000</td>  <td>(28, 6015)</td>\n",
       "</tr>\n",
       "</table>"
      ],
      "text/plain": [
       "<class 'statsmodels.iolib.table.SimpleTable'>"
      ]
     },
     "execution_count": 17,
     "metadata": {},
     "output_type": "execute_result"
    }
   ],
   "source": [
    "granges = results.test_causality(['AAPL','AMZN','FB','GOOG'],['NFLX'], kind = 'f')\n",
    "granges.summary()"
   ]
  },
  {
   "cell_type": "code",
   "execution_count": 18,
   "metadata": {},
   "outputs": [],
   "source": [
    "fcast = results.forecast(FAANGDiff.values,360)"
   ]
  },
  {
   "cell_type": "code",
   "execution_count": 19,
   "metadata": {},
   "outputs": [
    {
     "data": {
      "text/html": [
       "<div>\n",
       "<style scoped>\n",
       "    .dataframe tbody tr th:only-of-type {\n",
       "        vertical-align: middle;\n",
       "    }\n",
       "\n",
       "    .dataframe tbody tr th {\n",
       "        vertical-align: top;\n",
       "    }\n",
       "\n",
       "    .dataframe thead th {\n",
       "        text-align: right;\n",
       "    }\n",
       "</style>\n",
       "<table border=\"1\" class=\"dataframe\">\n",
       "  <thead>\n",
       "    <tr style=\"text-align: right;\">\n",
       "      <th></th>\n",
       "      <th>0</th>\n",
       "      <th>1</th>\n",
       "      <th>2</th>\n",
       "      <th>3</th>\n",
       "      <th>4</th>\n",
       "    </tr>\n",
       "  </thead>\n",
       "  <tbody>\n",
       "    <tr>\n",
       "      <th>0</th>\n",
       "      <td>0.711348</td>\n",
       "      <td>6.750122</td>\n",
       "      <td>0.733237</td>\n",
       "      <td>3.237835</td>\n",
       "      <td>-0.978588</td>\n",
       "    </tr>\n",
       "    <tr>\n",
       "      <th>1</th>\n",
       "      <td>0.131192</td>\n",
       "      <td>-3.466707</td>\n",
       "      <td>-0.110904</td>\n",
       "      <td>2.091582</td>\n",
       "      <td>0.422264</td>\n",
       "    </tr>\n",
       "    <tr>\n",
       "      <th>2</th>\n",
       "      <td>0.355755</td>\n",
       "      <td>-3.910911</td>\n",
       "      <td>-0.187138</td>\n",
       "      <td>3.195733</td>\n",
       "      <td>-0.726033</td>\n",
       "    </tr>\n",
       "    <tr>\n",
       "      <th>3</th>\n",
       "      <td>1.492376</td>\n",
       "      <td>15.318146</td>\n",
       "      <td>1.493478</td>\n",
       "      <td>7.667715</td>\n",
       "      <td>1.968622</td>\n",
       "    </tr>\n",
       "    <tr>\n",
       "      <th>4</th>\n",
       "      <td>0.218259</td>\n",
       "      <td>0.317184</td>\n",
       "      <td>0.009900</td>\n",
       "      <td>-0.158260</td>\n",
       "      <td>0.268912</td>\n",
       "    </tr>\n",
       "  </tbody>\n",
       "</table>\n",
       "</div>"
      ],
      "text/plain": [
       "          0          1         2         3         4\n",
       "0  0.711348   6.750122  0.733237  3.237835 -0.978588\n",
       "1  0.131192  -3.466707 -0.110904  2.091582  0.422264\n",
       "2  0.355755  -3.910911 -0.187138  3.195733 -0.726033\n",
       "3  1.492376  15.318146  1.493478  7.667715  1.968622\n",
       "4  0.218259   0.317184  0.009900 -0.158260  0.268912"
      ]
     },
     "execution_count": 19,
     "metadata": {},
     "output_type": "execute_result"
    }
   ],
   "source": [
    "pd.DataFrame(fcast).head()"
   ]
  },
  {
   "cell_type": "code",
   "execution_count": 20,
   "metadata": {},
   "outputs": [],
   "source": [
    "AAPLvalues = pd.DataFrame(fcast)[0]\n",
    "AMZNvalues = pd.DataFrame(fcast)[1]\n",
    "FBvalues = pd.DataFrame(fcast)[2]\n",
    "GOOGvalues = pd.DataFrame(fcast)[3]\n",
    "NFLXvalues = pd.DataFrame(fcast)[4]"
   ]
  },
  {
   "cell_type": "code",
   "execution_count": 21,
   "metadata": {},
   "outputs": [
    {
     "data": {
      "text/html": [
       "<div>\n",
       "<style scoped>\n",
       "    .dataframe tbody tr th:only-of-type {\n",
       "        vertical-align: middle;\n",
       "    }\n",
       "\n",
       "    .dataframe tbody tr th {\n",
       "        vertical-align: top;\n",
       "    }\n",
       "\n",
       "    .dataframe thead th {\n",
       "        text-align: right;\n",
       "    }\n",
       "</style>\n",
       "<table border=\"1\" class=\"dataframe\">\n",
       "  <thead>\n",
       "    <tr style=\"text-align: right;\">\n",
       "      <th></th>\n",
       "      <th>AAPL</th>\n",
       "      <th>AMZN</th>\n",
       "      <th>FB</th>\n",
       "      <th>GOOG</th>\n",
       "      <th>NFLX</th>\n",
       "    </tr>\n",
       "    <tr>\n",
       "      <th>Date</th>\n",
       "      <th></th>\n",
       "      <th></th>\n",
       "      <th></th>\n",
       "      <th></th>\n",
       "      <th></th>\n",
       "    </tr>\n",
       "  </thead>\n",
       "  <tbody>\n",
       "    <tr>\n",
       "      <th>2019-12-13</th>\n",
       "      <td>275.15</td>\n",
       "      <td>1760.94</td>\n",
       "      <td>194.11</td>\n",
       "      <td>1347.83</td>\n",
       "      <td>298.5</td>\n",
       "    </tr>\n",
       "  </tbody>\n",
       "</table>\n",
       "</div>"
      ],
      "text/plain": [
       "              AAPL     AMZN      FB     GOOG   NFLX\n",
       "Date                                               \n",
       "2019-12-13  275.15  1760.94  194.11  1347.83  298.5"
      ]
     },
     "execution_count": 21,
     "metadata": {},
     "output_type": "execute_result"
    }
   ],
   "source": [
    "df[('Adj Close')].tail(1)"
   ]
  },
  {
   "cell_type": "code",
   "execution_count": 22,
   "metadata": {},
   "outputs": [],
   "source": [
    "DeDiff_AAPL = np.cumsum(AAPLvalues) + 275.15"
   ]
  },
  {
   "cell_type": "code",
   "execution_count": 25,
   "metadata": {},
   "outputs": [
    {
     "data": {
      "image/png": "[encoded data removed]",
      "text/plain": [
       "<Figure size 1152x576 with 1 Axes>"
      ]
     },
     "metadata": {
      "needs_background": "light"
     },
     "output_type": "display_data"
    }
   ],
   "source": [
    "plt.figure(figsize = (16,8))\n",
    "plt.plot(DeDiff_AAPL, color ='blue')\n",
    "plt.title('AAPL Forecast')\n",
    "plt.grid()\n",
    "plt.show()"
   ]
  },
  {
   "cell_type": "code",
   "execution_count": 26,
   "metadata": {},
   "outputs": [],
   "source": [
    "DeDiff_AMZN = np.cumsum(AMZNvalues) + 1760.94"
   ]
  },
  {
   "cell_type": "code",
   "execution_count": 27,
   "metadata": {},
   "outputs": [
    {
     "data": {
      "image/png": "[encoded data removed]",
      "text/plain": [
       "<Figure size 1152x576 with 1 Axes>"
      ]
     },
     "metadata": {
      "needs_background": "light"
     },
     "output_type": "display_data"
    }
   ],
   "source": [
    "plt.figure(figsize = (16,8))\n",
    "plt.plot(DeDiff_AMZN,color ='yellow')\n",
    "plt.title('AMZN Forecast')\n",
    "plt.grid()\n",
    "plt.show()"
   ]
  },
  {
   "cell_type": "code",
   "execution_count": 28,
   "metadata": {},
   "outputs": [],
   "source": [
    "DeDiff_FB = np.cumsum(FBvalues) + 194.11"
   ]
  },
  {
   "cell_type": "code",
   "execution_count": 29,
   "metadata": {},
   "outputs": [
    {
     "data": {
      "image/png": "[encoded data removed]",
      "text/plain": [
       "<Figure size 1152x576 with 1 Axes>"
      ]
     },
     "metadata": {
      "needs_background": "light"
     },
     "output_type": "display_data"
    }
   ],
   "source": [
    "plt.figure(figsize = (16,8))\n",
    "plt.plot(DeDiff_FB, color ='green')\n",
    "plt.title('FB Forecast')\n",
    "plt.grid()\n",
    "plt.show()"
   ]
  },
  {
   "cell_type": "code",
   "execution_count": 30,
   "metadata": {},
   "outputs": [],
   "source": [
    "DeDiff_GOOG = np.cumsum(GOOGvalues) + 1347.83"
   ]
  },
  {
   "cell_type": "code",
   "execution_count": 31,
   "metadata": {},
   "outputs": [
    {
     "data": {
      "image/png": "[encoded data removed]",
      "text/plain": [
       "<Figure size 1152x576 with 1 Axes>"
      ]
     },
     "metadata": {
      "needs_background": "light"
     },
     "output_type": "display_data"
    }
   ],
   "source": [
    "plt.figure(figsize = (16,8))\n",
    "plt.plot(DeDiff_GOOG, color ='red')\n",
    "plt.title('GOOG Forecast')\n",
    "plt.grid()\n",
    "plt.show()"
   ]
  },
  {
   "cell_type": "code",
   "execution_count": 32,
   "metadata": {},
   "outputs": [],
   "source": [
    "DeDiff_NFLX = np.cumsum(NFLXvalues) + 298.5"
   ]
  },
  {
   "cell_type": "code",
   "execution_count": 33,
   "metadata": {},
   "outputs": [
    {
     "data": {
      "image/png": "[encoded data removed]",
      "text/plain": [
       "<Figure size 1152x576 with 1 Axes>"
      ]
     },
     "metadata": {
      "needs_background": "light"
     },
     "output_type": "display_data"
    }
   ],
   "source": [
    "plt.figure(figsize = (16,8))\n",
    "plt.plot(DeDiff_NFLX, color ='purple')\n",
    "plt.title('NFLX Forecast')\n",
    "plt.grid()\n",
    "plt.show()"
   ]
  },
  {
   "cell_type": "code",
   "execution_count": null,
   "metadata": {},
   "outputs": [],
   "source": []
  }
 ],
 "metadata": {
  "kernelspec": {
   "display_name": "Python 3",
   "language": "python",
   "name": "python3"
  },
  "language_info": {
   "codemirror_mode": {
    "name": "ipython",
    "version": 3
   },
   "file_extension": ".py",
   "mimetype": "text/x-python",
   "name": "python",
   "nbconvert_exporter": "python",
   "pygments_lexer": "ipython3",
   "version": "3.7.3"
  }
 },
 "nbformat": 4,
 "nbformat_minor": 2
}
